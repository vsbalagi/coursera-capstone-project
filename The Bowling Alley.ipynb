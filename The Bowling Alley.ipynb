{
    "cells": [
        {
            "cell_type": "markdown",
            "metadata": {
                "collapsed": true
            },
            "source": "## Capstone Project - Bowling Alley near York University, Toronto"
        },
        {
            "cell_type": "markdown",
            "metadata": {},
            "source": "### Introduction / Business Problem"
        },
        {
            "cell_type": "markdown",
            "metadata": {},
            "source": "The students of York University - Toronto, do not have a place where they can let their hair down during a very demanding semester.\nNor do they have a food joint that is open beyond 10pm.\nA recreational place like a Bowling alley, that serves good food and plays youthful music would be an ideal spot for the youngsters to gather and relax.\n\nThis place would be of greater importance when winter starts. Students need not have to travel to Downtown, Toronto to have a few hours of relaxation.\nSince there would be a given number of student community in the campus, any person wishing to run this business would stand to see good profits"
        },
        {
            "cell_type": "code",
            "execution_count": null,
            "metadata": {},
            "outputs": [],
            "source": ""
        }
    ],
    "metadata": {
        "kernelspec": {
            "display_name": "Python 3.6",
            "language": "python",
            "name": "python3"
        },
        "language_info": {
            "codemirror_mode": {
                "name": "ipython",
                "version": 3
            },
            "file_extension": ".py",
            "mimetype": "text/x-python",
            "name": "python",
            "nbconvert_exporter": "python",
            "pygments_lexer": "ipython3",
            "version": "3.6.9"
        }
    },
    "nbformat": 4,
    "nbformat_minor": 1
}