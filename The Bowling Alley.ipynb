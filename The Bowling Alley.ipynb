{
    "cells": [
        {
            "cell_type": "markdown",
            "metadata": {
                "collapsed": true
            },
            "source": "## Capstone Project - Bowling Alley near York University, Toronto"
        },
        {
            "cell_type": "markdown",
            "metadata": {},
            "source": "### Introduction / Business Problem"
        },
        {
            "cell_type": "markdown",
            "metadata": {},
            "source": "The students of York University - Toronto, do not have a place where they can let their hair down during a very demanding semester.\nNor do they have a food joint that is open beyond 10pm.\nA recreational place like a Bowling alley, that serves good food and plays youthful music would be an ideal spot for the youngsters to gather and relax.\n\nThis place would be of greater importance when winter starts. Students need not have to travel to Downtown, Toronto to have a few hours of relaxation.\nSince there would be a given number of student community in the campus, any person wishing to run this business would stand to see good profits"
        },
        {
            "cell_type": "markdown",
            "metadata": {},
            "source": "### Approach & Data Usage for a solution"
        },
        {
            "cell_type": "markdown",
            "metadata": {},
            "source": "#### 1. Download and Explore Dataset\nUse the dataset that is exposed by Wikipedia or find any other source that provides data about Toronto and its neighborhoods.\nWe need the Latitude and Longitude coordinates of each neighborhood.\n\nTo explore the data, transform the raw data into a Pandas dataframe.\nUse geopy library to get the latitude and longitude values of the location considered for our project.\nCreate a map with neighborhoods superimposed on top.\nGet Top 100 venues that are within 1500 meters radius of the campus.\n\n\n#### 2. Explore Neighborhoods in Toronto\nWrite code to explore the venues across the Neighborhoods to check if there are eateries and bowling alleys.\n\n#### 3. Analyze each Neighborhood\nAnalyze each Neighborhood by grouping them into categories like \"Arcade\", \"Art Museum\", \"Athletis & Sports\", etc.,\nThis helps us to narrow down a location or a Neighborhood that can be recommended for a possible entreprenuer willing to open a new business.\n\n#### 4. Cluster Neighborhoods\nRun k-means to cluster the neighborhoods into 5 clusters.\nUse a Folium map to visualize the resulting clusters.\n\n#### 5. Examine Clusters\nExamine each of the above 5 clusters.\nSee if there are multiple locations available for recommedation to solve our problem identified earlier (which is to find a location to start a new business of Bowling alley that can also double up as a eatery & music place)"
        },
        {
            "cell_type": "code",
            "execution_count": null,
            "metadata": {},
            "outputs": [],
            "source": ""
        }
    ],
    "metadata": {
        "kernelspec": {
            "display_name": "Python 3.6",
            "language": "python",
            "name": "python3"
        },
        "language_info": {
            "codemirror_mode": {
                "name": "ipython",
                "version": 3
            },
            "file_extension": ".py",
            "mimetype": "text/x-python",
            "name": "python",
            "nbconvert_exporter": "python",
            "pygments_lexer": "ipython3",
            "version": "3.6.9"
        }
    },
    "nbformat": 4,
    "nbformat_minor": 1
}