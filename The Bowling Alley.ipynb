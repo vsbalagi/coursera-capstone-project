{
    "cells": [
        {
            "cell_type": "markdown",
            "metadata": {
                "collapsed": true
            },
            "source": "## Capstone Project - Bowling Alley near York University, Toronto"
        },
        {
            "cell_type": "markdown",
            "metadata": {},
            "source": "### Introduction / Business Problem"
        },
        {
            "cell_type": "markdown",
            "metadata": {},
            "source": "The students of York University - Toronto, do not have a place where they can let their hair down during a very demanding semester.\nNor do they have a food joint that is open beyond 10pm.\nA recreational place like a Bowling alley, that serves good food and plays youthful music would be an ideal spot for the youngsters to gather and relax.\n\nThis place would be of greater importance when winter starts. Students need not have to travel to Downtown, Toronto to have a few hours of relaxation.\nSince there would be a given number of student community in the campus, any person wishing to run this business would stand to see good profits"
        },
        {
            "cell_type": "markdown",
            "metadata": {},
            "source": "### Approach & Data Usage for a solution"
        },
        {
            "cell_type": "markdown",
            "metadata": {},
            "source": "#### 1. Download and Explore Dataset\nUse the dataset that is exposed by Wikipedia or find any other source that provides data about Toronto and its neighborhoods.\nWe need the Latitude and Longitude coordinates of each neighborhood.\n\nTo explore the data, transform the raw data into a Pandas dataframe.\nUse geopy library to get the latitude and longitude values of the location considered for our project.\nCreate a map with neighborhoods superimposed on top.\nGet Top 100 venues that are within 1500 meters radius of the campus.\n\n"
        },
        {
            "cell_type": "code",
            "execution_count": null,
            "metadata": {},
            "outputs": [],
            "source": "# 43.801326100, -79.499856700 -> York University, Toronto\n\n\n#Scrape the Wikipedia page for getting the contents of table\nimport pandas as pd\nfrom pandas import DataFrame\nurl = \"https://en.wikipedia.org/wiki/List_of_postal_codes_of_Canada:_M\"\ntable = pd.read_html(url,header=0)\ndf = DataFrame(table[0])\n\n#Create the 3 columns PostalCode, Borough and Neighborhood\ncolumn_names = ['PostalCode', 'Borough', 'Neighborhood']\nmyDataFrame=pd.DataFrame(columns=column_names)\n\n#Take all the values scraped from Wikipedia and load them under the respective columns\nmyDataFrame['PostalCode'] = df['Postal Code']\nmyDataFrame['Borough'] = df['Borough']\nmyDataFrame['Neighborhood'] = df['Neighborhood']\n\n#Only process the cells that have an assigned borough. Ignore cells with a borough that is 'Not assigned'.\nmyAssignedBoroughs = myDataFrame[myDataFrame['Borough'] != 'Not assigned'].reset_index(drop=True)\n\n#If a cell has a borough but a Not assigned neighborhood, then the neighborhood will be the same as the borough.\nfor NeighborhoodValue in myAssignedBoroughs['Neighborhood']:\n    if (NeighborhoodValue == 'Not assigned'):\n        myAssignedBoroughs['Neighborhood'] = myAssignedBoroughs['Borough']\n        \n#print(f'The number of rows of the final data frame with all assigned Neighborhoods & Boroughs is : {myAssignedBoroughs.shape[0]}')\n\n#Get the Latitude and Longitudes \nurl='http://cocl.us/Geospatial_data'\ndf = pd.read_csv(url)\ndf.rename(columns = {'Postal Code': 'PostalCode'}, inplace=True)\n\n#Get the final dataframe that has Boroughs in York\nfinalDataFrame = pd.merge(myAssignedBoroughs,df, on='PostalCode')\n\ndfOnlyYork = finalDataFrame[finalDataFrame['Borough'].str.contains('York')]\ndfOnlyYork = dfOnlyYork.reset_index()"
        },
        {
            "cell_type": "markdown",
            "metadata": {},
            "source": "\n#### 2. Explore Neighborhoods in Toronto\nWrite code to explore the venues across the Neighborhoods to check if there are eateries and bowling alleys.\n\n"
        },
        {
            "cell_type": "code",
            "execution_count": null,
            "metadata": {},
            "outputs": [],
            "source": "CLIENT_ID = 'QTBK3RMF20WILETWAI5R10O4BV44DH0MNZK3N1FG3IXNVWKD' # your Foursquare ID\nCLIENT_SECRET = 'LNKECWSW0IX51DC3KX0DBDPBPUXQP34FRYL3XJMBXJYZM5SH' # your Foursquare Secret\nVERSION = '20180605' # Foursquare API version\n\n#Let us explore the York University neighborhood in our Dataframe\ndfOnlyYork.loc[15, 'Neighborhood']\n\nneighborhood_latitude = dfOnlyYork.loc[15, 'Latitude'] # neighborhood latitude value\nneighborhood_longitude = dfOnlyYork.loc[15, 'Longitude'] # neighborhood longitude value\n\nneighborhood_name = dfOnlyYork.loc[15, 'Neighborhood'] # neighborhood name\n\nprint('Latitude and longitude values of {} are {}, {}.'.format(neighborhood_name, \n                                                               neighborhood_latitude, \n                                                               neighborhood_longitude))\n\n\n"
        },
        {
            "cell_type": "code",
            "execution_count": null,
            "metadata": {},
            "outputs": [
                {
                    "name": "stdout",
                    "output_type": "stream",
                    "text": "| "
                }
            ],
            "source": "!conda install -c conda-forge folium=0.5.0 --yes \nimport folium # map rendering library"
        },
        {
            "cell_type": "code",
            "execution_count": null,
            "metadata": {},
            "outputs": [],
            "source": "!conda install -c conda-forge geopy --yes # uncomment this line if you haven't completed the Foursquare API lab\nfrom geopy.geocoders import Nominatim # convert an address into latitude and longitude values\n\n#Now let us get some top venues that are in York University within a radius of 1500 meters\nimport requests # library to handle requests\nfrom pandas.io.json import json_normalize # tranform JSON file into a pandas dataframe\n\n# Matplotlib and associated plotting modules\nimport matplotlib.cm as cm\nimport matplotlib.colors as colors\n\n# import k-means from clustering stage\nfrom sklearn.cluster import KMeans\n"
        },
        {
            "cell_type": "code",
            "execution_count": null,
            "metadata": {},
            "outputs": [],
            "source": "LIMIT = 100\nradius = 1500\n\nurl = 'https://api.foursquare.com/v2/venues/explore?&client_id={}&client_secret={}&v={}&ll={},{}&radius={}&limit={}'.format(\n    CLIENT_ID, \n    CLIENT_SECRET, \n    VERSION, \n    neighborhood_latitude, \n    neighborhood_longitude, \n    radius, \n    LIMIT)\nurl # display URL\nresults = requests.get(url).json()\n"
        },
        {
            "cell_type": "markdown",
            "metadata": {},
            "source": "### Extract the category of the venue, reuse it to clean the JSON and structure it into a dataframe"
        },
        {
            "cell_type": "code",
            "execution_count": null,
            "metadata": {},
            "outputs": [],
            "source": "def get_category_type(row):\n    try:\n        categories_list = row['categories']\n    except:\n        categories_list = row['venue.categories']\n        \n    if len(categories_list) == 0:\n        return None\n    else:\n        return categories_list[0]['name']\n    \nvenues = results['response']['groups'][0]['items']\n    \nnearby_venues = json_normalize(venues) # flatten JSON\n\n# filter columns\nfiltered_columns = ['venue.name', 'venue.categories', 'venue.location.lat', 'venue.location.lng']\nnearby_venues =nearby_venues.loc[:, filtered_columns]\n\n# filter the category for each row\nnearby_venues['venue.categories'] = nearby_venues.apply(get_category_type, axis=1)\n\n# clean columns\nnearby_venues.columns = [col.split(\".\")[-1] for col in nearby_venues.columns]\nnearby_venues"
        },
        {
            "cell_type": "markdown",
            "metadata": {},
            "source": "#### 3. Analyze each Neighborhood\nAnalyze each Neighborhood by grouping them into categories like \"Arcade\", \"Art Museum\", \"Athletis & Sports\", etc.,\nThis helps us to narrow down a location or a Neighborhood that can be recommended for a possible entreprenuer willing to open a new business.\n\n"
        },
        {
            "cell_type": "code",
            "execution_count": null,
            "metadata": {},
            "outputs": [],
            "source": "def getNearbyVenues(names, latitudes, longitudes, radius=500):\n    \n    venues_list=[]\n    for name, lat, lng in zip(names, latitudes, longitudes):\n        #print(name)\n            \n        # create the API request URL\n        url = 'https://api.foursquare.com/v2/venues/explore?&client_id={}&client_secret={}&v={}&ll={},{}&radius={}&limit={}'.format(\n            CLIENT_ID, \n            CLIENT_SECRET, \n            VERSION, \n            lat, \n            lng, \n            radius, \n            LIMIT)\n            \n        # make the GET request\n        results = requests.get(url).json()[\"response\"]['groups'][0]['items']\n        \n        # return only relevant information for each nearby venue\n        venues_list.append([(\n            name, \n            lat, \n            lng, \n            v['venue']['name'], \n            v['venue']['location']['lat'], \n            v['venue']['location']['lng'],  \n            v['venue']['categories'][0]['name']) for v in results])\n\n    nearby_venues = pd.DataFrame([item for venue_list in venues_list for item in venue_list])\n    nearby_venues.columns = ['Neighborhood', \n                  'Neighborhood Latitude', \n                  'Neighborhood Longitude', \n                  'Venue', \n                  'Venue Latitude', \n                  'Venue Longitude', \n                  'Venue Category']\n    \n    return(nearby_venues)"
        },
        {
            "cell_type": "code",
            "execution_count": null,
            "metadata": {},
            "outputs": [],
            "source": "york_venues = getNearbyVenues(names=dfOnlyYork['Neighborhood'],\n                                   latitudes=dfOnlyYork['Latitude'],\n                                   longitudes=dfOnlyYork['Longitude']\n                                  )\nyork_venues.head()\nyork_venues.groupby('Neighborhood').count()\nprint('There are {} unique categories.'.format(len(york_venues['Venue Category'].unique())))"
        },
        {
            "cell_type": "code",
            "execution_count": null,
            "metadata": {},
            "outputs": [],
            "source": "# one hot encoding\nyork_onehot = pd.get_dummies(york_venues[['Venue Category']], prefix=\"\", prefix_sep=\"\")\n\n# add neighborhood column back to dataframe\nyork_onehot['Neighborhood'] = york_venues['Neighborhood'] \n\n# move neighborhood column to the first column\nfixed_columns = [york_onehot.columns[-1]] + list(york_onehot.columns[:-1])\nyork_onehot = york_onehot[fixed_columns]\n\nyork_onehot.head()"
        },
        {
            "cell_type": "code",
            "execution_count": null,
            "metadata": {},
            "outputs": [],
            "source": "york_grouped = york_onehot.groupby('Neighborhood').mean().reset_index()\n\n#Let's print each neighborhood along with the top 10 most common venues\nnum_top_venues = 10\n\nfor hood in york_grouped['Neighborhood']:\n    print(\"----\"+hood+\"----\")\n    temp = york_grouped[york_grouped['Neighborhood'] == hood].T.reset_index()\n    temp.columns = ['venue','freq']\n    temp = temp.iloc[1:]\n    temp['freq'] = temp['freq'].astype(float)\n    temp = temp.round({'freq': 2})\n    print(temp.sort_values('freq', ascending=False).reset_index(drop=True).head(num_top_venues))\n    print('\\n')"
        },
        {
            "cell_type": "code",
            "execution_count": null,
            "metadata": {},
            "outputs": [],
            "source": "import numpy as np\ndef return_most_common_venues(row, num_top_venues):\n    row_categories = row.iloc[1:]\n    row_categories_sorted = row_categories.sort_values(ascending=False)\n    \n    return row_categories_sorted.index.values[0:num_top_venues]\n\nnum_top_venues = 10\n\nindicators = ['st', 'nd', 'rd']\n\n# create columns according to number of top venues\ncolumns = ['Neighborhood']\nfor ind in np.arange(num_top_venues):\n    try:\n        columns.append('{}{} Most Common Venue'.format(ind+1, indicators[ind]))\n    except:\n        columns.append('{}th Most Common Venue'.format(ind+1))\n\n# create a new dataframe\nneighborhoods_venues_sorted = pd.DataFrame(columns=columns)\nneighborhoods_venues_sorted['Neighborhood'] = york_grouped['Neighborhood']\n\nfor ind in np.arange(york_grouped.shape[0]):\n    neighborhoods_venues_sorted.iloc[ind, 1:] = return_most_common_venues(york_grouped.iloc[ind, :], num_top_venues)\n\nneighborhoods_venues_sorted.head()"
        },
        {
            "cell_type": "markdown",
            "metadata": {},
            "source": "#### 4. Cluster Neighborhoods\nRun k-means to cluster the neighborhoods into 5 clusters.\nUse a Folium map to visualize the resulting clusters.\n\n"
        },
        {
            "cell_type": "code",
            "execution_count": null,
            "metadata": {},
            "outputs": [],
            "source": "# set number of clusters\nkclusters = 5\n\nyork_grouped_clustering = york_grouped.drop('Neighborhood', 1)\n\n# run k-means clustering\nkmeans = KMeans(n_clusters=kclusters, random_state=0).fit(york_grouped_clustering)\n\n# check cluster labels generated for each row in the dataframe\nkmeans.labels_[0:10] \n\n"
        },
        {
            "cell_type": "code",
            "execution_count": null,
            "metadata": {},
            "outputs": [],
            "source": "# add clustering labels\nneighborhoods_venues_sorted.insert(0, 'Cluster Labels', kmeans.labels_)\n\nyork_merged = dfOnlyYork\n\n# merge york_grouped with york_data to add latitude/longitude for each neighborhood\nyork_merged = york_merged.join(neighborhoods_venues_sorted.set_index('Neighborhood'), on='Neighborhood')\n\nyork_merged.head(10) # check the last columns!"
        },
        {
            "cell_type": "code",
            "execution_count": null,
            "metadata": {},
            "outputs": [],
            "source": "#York University, Toronto\n\naddress = 'York University, Toronto'\ngeolocator = Nominatim(user_agent=\"on_explorer\")\nlocation = geolocator.geocode(address)\nlatitude = location.latitude\nlongitude = location.longitude\n"
        },
        {
            "cell_type": "code",
            "execution_count": null,
            "metadata": {},
            "outputs": [],
            "source": "# create map\nmap_clusters = folium.Map(location=[latitude, longitude], zoom_start=11)\n\n# set color scheme for the clusters\nx = np.arange(kclusters)\nys = [i + x + (i*x)**2 for i in range(kclusters)]\ncolors_array = cm.rainbow(np.linspace(0, 1, len(ys)))\nrainbow = [colors.rgb2hex(i) for i in colors_array]\n\n# add markers to the map\nmarkers_colors = []\nfor lat, lon, poi, cluster in zip(york_merged['Latitude'], york_merged['Longitude'], york_merged['Neighborhood'], york_merged['Cluster Labels']):\n    label = folium.Popup(str(poi) + ' Cluster ' + str(cluster), parse_html=True)\n    folium.CircleMarker(\n        [lat, lon],\n        radius=5,\n        popup=label,\n        color=rainbow[cluster-1],\n        fill=True,\n        fill_color=rainbow[cluster-1],\n        fill_opacity=0.7).add_to(map_clusters)\n       \nmap_clusters"
        },
        {
            "cell_type": "markdown",
            "metadata": {},
            "source": "#### 5. Examine Clusters\nExamine each of the above 5 clusters.\nSee if there are multiple locations available for recommedation to solve our problem identified earlier (which is to find a location to start a new business of Bowling alley that can also double up as a eatery & music place)\n\n#### Cluster 1"
        },
        {
            "cell_type": "code",
            "execution_count": null,
            "metadata": {},
            "outputs": [],
            "source": "york_merged.loc[york_merged['Cluster Labels'] == 0, york_merged.columns[[1] + list(range(5, york_merged.shape[1]))]]"
        },
        {
            "cell_type": "markdown",
            "metadata": {},
            "source": "#### Cluster 2"
        },
        {
            "cell_type": "code",
            "execution_count": null,
            "metadata": {},
            "outputs": [],
            "source": "york_merged.loc[york_merged['Cluster Labels'] == 1, york_merged.columns[[1] + list(range(5, york_merged.shape[1]))]]"
        },
        {
            "cell_type": "markdown",
            "metadata": {},
            "source": "#### Cluster 3"
        },
        {
            "cell_type": "code",
            "execution_count": null,
            "metadata": {},
            "outputs": [],
            "source": "york_merged.loc[york_merged['Cluster Labels'] == 2, york_merged.columns[[1] + list(range(5, york_merged.shape[1]))]]"
        },
        {
            "cell_type": "markdown",
            "metadata": {},
            "source": "#### Cluster 4"
        },
        {
            "cell_type": "code",
            "execution_count": null,
            "metadata": {},
            "outputs": [],
            "source": "york_merged.loc[york_merged['Cluster Labels'] == 3, york_merged.columns[[1] + list(range(5, york_merged.shape[1]))]]"
        },
        {
            "cell_type": "markdown",
            "metadata": {},
            "source": "#### Cluster 5"
        },
        {
            "cell_type": "code",
            "execution_count": null,
            "metadata": {},
            "outputs": [],
            "source": "york_merged.loc[york_merged['Cluster Labels'] == 4, york_merged.columns[[1] + list(range(5, york_merged.shape[1]))]]"
        },
        {
            "cell_type": "markdown",
            "metadata": {},
            "source": "### ****** Thank you ******"
        },
        {
            "cell_type": "code",
            "execution_count": null,
            "metadata": {},
            "outputs": [],
            "source": ""
        }
    ],
    "metadata": {
        "kernelspec": {
            "display_name": "Python 3.6",
            "language": "python",
            "name": "python3"
        },
        "language_info": {
            "codemirror_mode": {
                "name": "ipython",
                "version": 3
            },
            "file_extension": ".py",
            "mimetype": "text/x-python",
            "name": "python",
            "nbconvert_exporter": "python",
            "pygments_lexer": "ipython3",
            "version": "3.6.9"
        }
    },
    "nbformat": 4,
    "nbformat_minor": 1
}